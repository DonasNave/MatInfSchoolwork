{
 "cells": [
  {
   "attachments": {},
   "cell_type": "markdown",
   "metadata": {},
   "source": [
    "# Assignment for MI\n",
    "> Author: Noe ŠVANDA\n",
    "\n",
    "### Random Search\n",
    "\n",
    "bla bla\n",
    "bla bla\n",
    "    \n",
    "```python\n",
    "def random_search(v, n, f):\n",
    "    for i in range(n):\n",
    "        v = v + numpy.random.normal(0, 0.1, v.shape)\n",
    "        v = numpy.clip(v, -1.0, 1.0)\n",
    "    return v\n",
    "```\n",
    "\n",
    "### Simulated Annealing\n",
    "\n",
    "bla bla\n",
    "bla bla\n",
    "\n",
    "```python\n",
    "def simulated_annealing(v, n, f):\n",
    "    for i in range(n):\n",
    "        v = v + numpy.random.normal(0, 0.1, v.shape)\n",
    "        v = numpy.clip(v, -1.0, 1.0)\n",
    "    return v\n",
    "```\n",
    "\n",
    "### Benchmark functions\n",
    "\n",
    "bla bla\n",
    "\n",
    "- 1st DeJong function\n",
    "- 2nd DeJong function\n",
    "- Schwefel function\n",
    "\n",
    "### Results\n",
    "\n",
    "bla bla"
   ]
  },
  {
   "cell_type": "code",
   "execution_count": null,
   "metadata": {},
   "outputs": [],
   "source": [
    "from methods import random_search, dejong\n",
    "\n",
    "start = vector(0,0,0)\n",
    "\n",
    "print(\"Random Search\" + str(random_search(start, 1000, dejong)))"
   ]
  }
 ],
 "metadata": {
  "kernelspec": {
   "display_name": "Python 3",
   "language": "python",
   "name": "python3"
  },
  "language_info": {
   "codemirror_mode": {
    "name": "ipython",
    "version": 3
   },
   "file_extension": ".py",
   "mimetype": "text/x-python",
   "name": "python",
   "nbconvert_exporter": "python",
   "pygments_lexer": "ipython3",
   "version": "3.10.5"
  },
  "orig_nbformat": 4
 },
 "nbformat": 4,
 "nbformat_minor": 2
}
