{
 "cells": [
  {
   "attachments": {},
   "cell_type": "markdown",
   "metadata": {},
   "source": [
    "# Assignment for MI\n",
    "> Author: Noe ŠVANDA\n",
    "\n",
    "### Random Search\n",
    "\n",
    "bla bla\n",
    "bla bla\n",
    "    \n",
    "```python\n",
    "def random_search(v, n, f):\n",
    "    for i in range(n):\n",
    "        v = v + numpy.random.normal(0, 0.1, v.shape)\n",
    "        v = numpy.clip(v, -1.0, 1.0)\n",
    "    return v\n",
    "```\n",
    "\n",
    "### Simulated Annealing\n",
    "\n",
    "bla bla\n",
    "bla bla\n",
    "\n",
    "```python\n",
    "def simulated_annealing(v, n, f):\n",
    "    for i in range(n):\n",
    "        v = v + numpy.random.normal(0, 0.1, v.shape)\n",
    "        v = numpy.clip(v, -1.0, 1.0)\n",
    "    return v\n",
    "```\n",
    "\n",
    "### Benchmark functions\n",
    "\n",
    "bla bla\n",
    "\n",
    "- 1st DeJong function\n",
    "- 2nd DeJong function\n",
    "- Schwefel function\n",
    "\n",
    "### Results\n",
    "\n",
    "bla bla"
   ]
  },
  {
   "cell_type": "code",
   "execution_count": null,
   "metadata": {},
   "outputs": [],
   "source": [
    "from methods import *\n",
    "\n",
    "dejong_random = dict()\n",
    "dejong_annealing = dict()\n",
    "dejong2_random = dict()\n",
    "dejong2_annealing = dict()\n",
    "schwefel_random = dict()\n",
    "schwefel_annealing = dict()\n",
    "\n",
    "for d in [5, 10]:\n",
    "    for i in range(30):\n",
    "        vector1 = np.random.uniform(-50, 50, d)\n",
    "        vector2 = np.random.uniform(0, 1000, d)\n",
    "\n",
    "        dejong_random[d] = random_search(vector1, 10000, dejong, (-50, 50))\n",
    "        dejong_annealing[d] = simulated_annealing(vector1, 10, 1000, dejong, cooling, 0.01, 0.5, (-50, 50))\n",
    "        dejong2_random[d] = random_search(vector1, 10000, dejong2, (-50, 50))\n",
    "        dejong2_annealing[d] = simulated_annealing(vector1, 10, 1000, dejong2, cooling, 0.01, 0.5, (-50, 50))\n",
    "        schwefel_random[d] = random_search(vector2, 10000, schwefel, (0, 1000))\n",
    "        schwefel_annealing[d] = simulated_annealing(vector2, 10, 1000, schwefel, cooling, 0.01, 0.5, (0, 1000))"
   ]
  }
 ],
 "metadata": {
  "kernelspec": {
   "display_name": "Python 3",
   "language": "python",
   "name": "python3"
  },
  "language_info": {
   "codemirror_mode": {
    "name": "ipython",
    "version": 3
   },
   "file_extension": ".py",
   "mimetype": "text/x-python",
   "name": "python",
   "nbconvert_exporter": "python",
   "pygments_lexer": "ipython3",
   "version": "3.10.5"
  },
  "orig_nbformat": 4
 },
 "nbformat": 4,
 "nbformat_minor": 2
}
